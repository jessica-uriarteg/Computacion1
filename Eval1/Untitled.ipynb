{
 "cells": [
  {
   "cell_type": "code",
   "execution_count": 132,
   "metadata": {
    "collapsed": false
   },
   "outputs": [],
   "source": [
    "import pandas as pd \n",
    "import numpy as np\n",
    "from matplotlib import pyplot as plt \n",
    "import statsmodels.api as sm\n",
    "import scipy.stats as stats\n",
    "from pylab import *\n",
    "from scipy.io import loadmat\n",
    "df=pd.read_csv(\"GLB.Ts+dSST.csv\",skiprows=1)"
   ]
  },
  {
   "cell_type": "code",
   "execution_count": 133,
   "metadata": {
    "collapsed": false
   },
   "outputs": [
    {
     "data": {
      "text/html": [
       "<div>\n",
       "<table border=\"1\" class=\"dataframe\">\n",
       "  <thead>\n",
       "    <tr style=\"text-align: right;\">\n",
       "      <th></th>\n",
       "      <th>Year</th>\n",
       "      <th>Jan</th>\n",
       "      <th>Feb</th>\n",
       "      <th>Mar</th>\n",
       "      <th>Apr</th>\n",
       "      <th>May</th>\n",
       "      <th>Jun</th>\n",
       "      <th>Jul</th>\n",
       "      <th>Aug</th>\n",
       "      <th>Sep</th>\n",
       "      <th>Oct</th>\n",
       "      <th>Nov</th>\n",
       "      <th>Dec</th>\n",
       "      <th>J-D</th>\n",
       "      <th>D-N</th>\n",
       "      <th>DJF</th>\n",
       "      <th>MAM</th>\n",
       "      <th>JJA</th>\n",
       "      <th>SON</th>\n",
       "    </tr>\n",
       "  </thead>\n",
       "  <tbody>\n",
       "    <tr>\n",
       "      <th>0</th>\n",
       "      <td>1881</td>\n",
       "      <td>-0.10</td>\n",
       "      <td>-0.14</td>\n",
       "      <td>0.01</td>\n",
       "      <td>-0.03</td>\n",
       "      <td>-0.04</td>\n",
       "      <td>-0.28</td>\n",
       "      <td>-0.06</td>\n",
       "      <td>-0.02</td>\n",
       "      <td>-0.09</td>\n",
       "      <td>-0.20</td>\n",
       "      <td>-0.26</td>\n",
       "      <td>-0.16</td>\n",
       "      <td>-0.11</td>\n",
       "      <td>-0.12</td>\n",
       "      <td>-0.15</td>\n",
       "      <td>-0.02</td>\n",
       "      <td>-0.12</td>\n",
       "      <td>-0.18</td>\n",
       "    </tr>\n",
       "    <tr>\n",
       "      <th>1</th>\n",
       "      <td>1882</td>\n",
       "      <td>0.09</td>\n",
       "      <td>0.08</td>\n",
       "      <td>0.01</td>\n",
       "      <td>-0.20</td>\n",
       "      <td>-0.17</td>\n",
       "      <td>-0.25</td>\n",
       "      <td>-0.11</td>\n",
       "      <td>0.03</td>\n",
       "      <td>0.00</td>\n",
       "      <td>-0.23</td>\n",
       "      <td>-0.21</td>\n",
       "      <td>-0.25</td>\n",
       "      <td>-0.10</td>\n",
       "      <td>-0.09</td>\n",
       "      <td>0.00</td>\n",
       "      <td>-0.12</td>\n",
       "      <td>-0.11</td>\n",
       "      <td>-0.15</td>\n",
       "    </tr>\n",
       "    <tr>\n",
       "      <th>2</th>\n",
       "      <td>1883</td>\n",
       "      <td>-0.34</td>\n",
       "      <td>-0.42</td>\n",
       "      <td>-0.18</td>\n",
       "      <td>-0.24</td>\n",
       "      <td>-0.26</td>\n",
       "      <td>-0.13</td>\n",
       "      <td>-0.09</td>\n",
       "      <td>-0.14</td>\n",
       "      <td>-0.19</td>\n",
       "      <td>-0.12</td>\n",
       "      <td>-0.21</td>\n",
       "      <td>-0.19</td>\n",
       "      <td>-0.21</td>\n",
       "      <td>-0.21</td>\n",
       "      <td>-0.34</td>\n",
       "      <td>-0.23</td>\n",
       "      <td>-0.12</td>\n",
       "      <td>-0.17</td>\n",
       "    </tr>\n",
       "    <tr>\n",
       "      <th>3</th>\n",
       "      <td>1884</td>\n",
       "      <td>-0.18</td>\n",
       "      <td>-0.12</td>\n",
       "      <td>-0.35</td>\n",
       "      <td>-0.36</td>\n",
       "      <td>-0.32</td>\n",
       "      <td>-0.38</td>\n",
       "      <td>-0.34</td>\n",
       "      <td>-0.26</td>\n",
       "      <td>-0.23</td>\n",
       "      <td>-0.22</td>\n",
       "      <td>-0.30</td>\n",
       "      <td>-0.29</td>\n",
       "      <td>-0.28</td>\n",
       "      <td>-0.27</td>\n",
       "      <td>-0.16</td>\n",
       "      <td>-0.34</td>\n",
       "      <td>-0.33</td>\n",
       "      <td>-0.25</td>\n",
       "    </tr>\n",
       "    <tr>\n",
       "      <th>4</th>\n",
       "      <td>1885</td>\n",
       "      <td>-0.65</td>\n",
       "      <td>-0.29</td>\n",
       "      <td>-0.23</td>\n",
       "      <td>-0.45</td>\n",
       "      <td>-0.42</td>\n",
       "      <td>-0.50</td>\n",
       "      <td>-0.28</td>\n",
       "      <td>-0.27</td>\n",
       "      <td>-0.18</td>\n",
       "      <td>-0.19</td>\n",
       "      <td>-0.22</td>\n",
       "      <td>-0.07</td>\n",
       "      <td>-0.31</td>\n",
       "      <td>-0.33</td>\n",
       "      <td>-0.41</td>\n",
       "      <td>-0.37</td>\n",
       "      <td>-0.35</td>\n",
       "      <td>-0.20</td>\n",
       "    </tr>\n",
       "  </tbody>\n",
       "</table>\n",
       "</div>"
      ],
      "text/plain": [
       "   Year   Jan   Feb   Mar   Apr   May   Jun   Jul   Aug   Sep   Oct   Nov  \\\n",
       "0  1881 -0.10 -0.14  0.01 -0.03 -0.04 -0.28 -0.06 -0.02 -0.09 -0.20 -0.26   \n",
       "1  1882  0.09  0.08  0.01 -0.20 -0.17 -0.25 -0.11  0.03  0.00 -0.23 -0.21   \n",
       "2  1883 -0.34 -0.42 -0.18 -0.24 -0.26 -0.13 -0.09 -0.14 -0.19 -0.12 -0.21   \n",
       "3  1884 -0.18 -0.12 -0.35 -0.36 -0.32 -0.38 -0.34 -0.26 -0.23 -0.22 -0.30   \n",
       "4  1885 -0.65 -0.29 -0.23 -0.45 -0.42 -0.50 -0.28 -0.27 -0.18 -0.19 -0.22   \n",
       "\n",
       "    Dec   J-D   D-N   DJF   MAM   JJA   SON  \n",
       "0 -0.16 -0.11 -0.12 -0.15 -0.02 -0.12 -0.18  \n",
       "1 -0.25 -0.10 -0.09  0.00 -0.12 -0.11 -0.15  \n",
       "2 -0.19 -0.21 -0.21 -0.34 -0.23 -0.12 -0.17  \n",
       "3 -0.29 -0.28 -0.27 -0.16 -0.34 -0.33 -0.25  \n",
       "4 -0.07 -0.31 -0.33 -0.41 -0.37 -0.35 -0.20  "
      ]
     },
     "execution_count": 133,
     "metadata": {},
     "output_type": "execute_result"
    }
   ],
   "source": [
    "df.head()"
   ]
  },
  {
   "cell_type": "code",
   "execution_count": 134,
   "metadata": {
    "collapsed": false
   },
   "outputs": [
    {
     "data": {
      "text/plain": [
       "Year      int64\n",
       "Jan     float64\n",
       "Feb     float64\n",
       "Mar     float64\n",
       "Apr     float64\n",
       "May     float64\n",
       "Jun     float64\n",
       "Jul     float64\n",
       "Aug     float64\n",
       "Sep     float64\n",
       "Oct     float64\n",
       "Nov     float64\n",
       "Dec     float64\n",
       "J-D     float64\n",
       "D-N     float64\n",
       "DJF     float64\n",
       "MAM     float64\n",
       "JJA     float64\n",
       "SON     float64\n",
       "dtype: object"
      ]
     },
     "execution_count": 134,
     "metadata": {},
     "output_type": "execute_result"
    }
   ],
   "source": [
    "df.dtypes"
   ]
  },
  {
   "cell_type": "code",
   "execution_count": 135,
   "metadata": {
    "collapsed": false
   },
   "outputs": [
    {
     "data": {
      "text/plain": [
       "0     -0.11\n",
       "1     -0.10\n",
       "2     -0.21\n",
       "3     -0.28\n",
       "4     -0.31\n",
       "5     -0.30\n",
       "6     -0.33\n",
       "7     -0.20\n",
       "8     -0.11\n",
       "9     -0.37\n",
       "10    -0.24\n",
       "11    -0.27\n",
       "12    -0.30\n",
       "13    -0.31\n",
       "14    -0.21\n",
       "15    -0.15\n",
       "16    -0.11\n",
       "17    -0.28\n",
       "18    -0.16\n",
       "19    -0.09\n",
       "20    -0.15\n",
       "21    -0.27\n",
       "22    -0.35\n",
       "23    -0.44\n",
       "24    -0.28\n",
       "25    -0.22\n",
       "26    -0.40\n",
       "27    -0.43\n",
       "28    -0.47\n",
       "29    -0.42\n",
       "       ... \n",
       "106    0.33\n",
       "107    0.40\n",
       "108    0.29\n",
       "109    0.44\n",
       "110    0.42\n",
       "111    0.23\n",
       "112    0.24\n",
       "113    0.32\n",
       "114    0.45\n",
       "115    0.35\n",
       "116    0.48\n",
       "117    0.63\n",
       "118    0.41\n",
       "119    0.42\n",
       "120    0.54\n",
       "121    0.63\n",
       "122    0.62\n",
       "123    0.54\n",
       "124    0.69\n",
       "125    0.63\n",
       "126    0.66\n",
       "127    0.54\n",
       "128    0.64\n",
       "129    0.71\n",
       "130    0.60\n",
       "131    0.63\n",
       "132    0.66\n",
       "133    0.75\n",
       "134    0.86\n",
       "135    0.98\n",
       "Name: J-D, dtype: float64"
      ]
     },
     "execution_count": 135,
     "metadata": {},
     "output_type": "execute_result"
    }
   ],
   "source": [
    "pd.to_numeric(df[\"J-D\"], errors='coerce')"
   ]
  },
  {
   "cell_type": "code",
   "execution_count": 136,
   "metadata": {
    "collapsed": false
   },
   "outputs": [
    {
     "data": {
      "text/plain": [
       "0      1881\n",
       "1      1882\n",
       "2      1883\n",
       "3      1884\n",
       "4      1885\n",
       "5      1886\n",
       "6      1887\n",
       "7      1888\n",
       "8      1889\n",
       "9      1890\n",
       "10     1891\n",
       "11     1892\n",
       "12     1893\n",
       "13     1894\n",
       "14     1895\n",
       "15     1896\n",
       "16     1897\n",
       "17     1898\n",
       "18     1899\n",
       "19     1900\n",
       "20     1901\n",
       "21     1902\n",
       "22     1903\n",
       "23     1904\n",
       "24     1905\n",
       "25     1906\n",
       "26     1907\n",
       "27     1908\n",
       "28     1909\n",
       "29     1910\n",
       "       ... \n",
       "106    1987\n",
       "107    1988\n",
       "108    1989\n",
       "109    1990\n",
       "110    1991\n",
       "111    1992\n",
       "112    1993\n",
       "113    1994\n",
       "114    1995\n",
       "115    1996\n",
       "116    1997\n",
       "117    1998\n",
       "118    1999\n",
       "119    2000\n",
       "120    2001\n",
       "121    2002\n",
       "122    2003\n",
       "123    2004\n",
       "124    2005\n",
       "125    2006\n",
       "126    2007\n",
       "127    2008\n",
       "128    2009\n",
       "129    2010\n",
       "130    2011\n",
       "131    2012\n",
       "132    2013\n",
       "133    2014\n",
       "134    2015\n",
       "135    2016\n",
       "Name: Year, dtype: int64"
      ]
     },
     "execution_count": 136,
     "metadata": {},
     "output_type": "execute_result"
    }
   ],
   "source": [
    "pd.to_numeric(df[\"Year\"], errors='coerce')"
   ]
  },
  {
   "cell_type": "code",
   "execution_count": 149,
   "metadata": {
    "collapsed": false
   },
   "outputs": [
    {
     "data": {
      "image/png": "[encoded data removed]",
      "text/plain": [
       "<matplotlib.figure.Figure at 0x7f53e9d0d160>"
      ]
     },
     "metadata": {},
     "output_type": "display_data"
    }
   ],
   "source": [
    "plt.title(\"Global mean estimates based on land and ocean data\")\n",
    "plt.ylabel('Temperature Anomaly')\n",
    "\n",
    "X=df[\"Year\"]\n",
    "Y=df[\"J-D\"]\n",
    "w=lowess(X,Y)\n",
    "plt.plot(X,Y,'k',label='Annual Mean')\n",
    "plt.plot(X,Y,'k',label='Annual Mean')\n",
    "lowess = sm.nonparametric.lowess\n",
    "\n",
    "\n",
    "plt.show()"
   ]
  },
  {
   "cell_type": "code",
   "execution_count": null,
   "metadata": {
    "collapsed": false
   },
   "outputs": [],
   "source": [
    "figure(1)\n",
    "title('Variabilidad de temperatura promedio de cada mes')\n",
    "boxplot(df.\"GLB.Ts+dSST.csv\")"
   ]
  },
  {
   "cell_type": "code",
   "execution_count": null,
   "metadata": {
    "collapsed": true
   },
   "outputs": [],
   "source": []
  }
 ],
 "metadata": {
  "kernelspec": {
   "display_name": "Python [default]",
   "language": "python",
   "name": "python3"
  },
  "language_info": {
   "codemirror_mode": {
    "name": "ipython",
    "version": 3
   },
   "file_extension": ".py",
   "mimetype": "text/x-python",
   "name": "python",
   "nbconvert_exporter": "python",
   "pygments_lexer": "ipython3",
   "version": "3.5.2"
  }
 },
 "nbformat": 4,
 "nbformat_minor": 1
}
